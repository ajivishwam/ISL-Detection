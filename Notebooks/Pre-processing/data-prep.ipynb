{
 "cells": [
  {
   "cell_type": "code",
   "execution_count": 1,
   "metadata": {},
   "outputs": [
    {
     "name": "stderr",
     "output_type": "stream",
     "text": [
      "ERROR: Could not find a version that satisfies the requirement shutil (from versions: none)\n",
      "ERROR: No matching distribution found for shutil\n",
      "\n",
      "[notice] A new release of pip is available: 23.2.1 -> 24.2\n",
      "[notice] To update, run: python.exe -m pip install --upgrade pip\n"
     ]
    }
   ],
   "source": [
    "!pip install shutil"
   ]
  },
  {
   "cell_type": "markdown",
   "metadata": {},
   "source": [
    "<h2 style=\"color:brown;\">Import required dependency</h2>"
   ]
  },
  {
   "cell_type": "code",
   "execution_count": 1,
   "metadata": {},
   "outputs": [],
   "source": [
    "import os\n",
    "import shutil\n",
    "import random"
   ]
  },
  {
   "cell_type": "markdown",
   "metadata": {},
   "source": [
    "<h2 style=\"color:brown;\">Data Collection</h2>"
   ]
  },
  {
   "cell_type": "code",
   "execution_count": 2,
   "metadata": {},
   "outputs": [],
   "source": [
    "# Path to the root directory containing the images\n",
    "root_dir = r\"D:\\Thesis\\Extra data\\Words\""
   ]
  },
  {
   "cell_type": "code",
   "execution_count": 3,
   "metadata": {},
   "outputs": [],
   "source": [
    "# Paths to the directories where the images and labels will be saved\n",
    "base_output_dir = r\"D:\\Thesis\\Data_20_v1\"\n",
    "image_train_dir = os.path.join(base_output_dir, 'images', 'train')\n",
    "image_val_dir = os.path.join(base_output_dir, 'images', 'val')\n",
    "label_train_dir = os.path.join(base_output_dir, 'labels', 'train')\n",
    "label_val_dir = os.path.join(base_output_dir, 'labels', 'val')"
   ]
  },
  {
   "cell_type": "code",
   "execution_count": 4,
   "metadata": {},
   "outputs": [],
   "source": [
    "# Ensure the directories exist\n",
    "os.makedirs(image_train_dir, exist_ok=True)\n",
    "os.makedirs(image_val_dir, exist_ok=True)\n",
    "os.makedirs(label_train_dir, exist_ok=True)\n",
    "os.makedirs(label_val_dir, exist_ok=True)"
   ]
  },
  {
   "cell_type": "code",
   "execution_count": 5,
   "metadata": {},
   "outputs": [],
   "source": [
    "bounding_boxes = {\n",
    "    \"afraid\": [(0, 0.5025, 0.5025, 0.995, 0.995)],\n",
    "    \"agree\": [(1, 0.5025, 0.5025, 0.995, 0.995)],\n",
    "\t\"assistance\": [(2, 0.505, 0.5, 0.99, 0.99)],\n",
    "\t\"bad\": [(3, 0.5025, 0.495, 0.995, 0.98)],\n",
    "\t\"become\": [(4, 0.5025, 0.5025, 0.995, 0.995)],\n",
    "\t\"college\": [(5, 0.5025, 0.5025, 0.995, 0.995)],\n",
    "\t\"doctor\": [(6, 0.5025, 0.5025, 0.995, 0.995)],\n",
    "\t\"from\": [(7, 0.5025, 0.5025, 0.995, 0.995)],\n",
    "\t\"pain\": [(8, 0.5025, 0.5025, 0.995, 0.995)],\n",
    "\t\"pray\": [(9, 0.5025, 0.5025, 0.995, 0.995)],\n",
    "\t\"secondary\": [(10, 0.5025, 0.5025, 0.995, 0.995)],\n",
    "\t\"skin\": [(11, 0.5025, 0.5025, 0.995, 0.995)],\n",
    "\t\"small\": [(12, 0.5025, 0.5025, 0.995, 0.995)],\n",
    "\t\"specific\": [(13, 0.5025, 0.5025, 0.995, 0.995)],\n",
    "\t\"stand\": [(14, 0.5025, 0.5025, 0.995, 0.995)],\n",
    "\t\"today\": [(15, 0.5025, 0.5025, 0.995, 0.995)],\n",
    "\t\"warn\": [(16, 0.5025, 0.5025, 0.995, 0.995)],\n",
    "\t\"which\": [(17, 0.5025, 0.5025, 0.995, 0.995)],\n",
    "\t\"work\": [(18, 0.5025, 0.5025, 0.995, 0.995)],\n",
    "\t\"you\": [(19, 0.5025, 0.5025, 0.995, 0.995)]\n",
    "}"
   ]
  },
  {
   "cell_type": "markdown",
   "metadata": {},
   "source": [
    "<h2 style=\"color:brown;\">Data processing</h2>"
   ]
  },
  {
   "cell_type": "code",
   "execution_count": 6,
   "metadata": {},
   "outputs": [],
   "source": [
    "# Function to move files and create labels\n",
    "def process_files(image_paths, image_output_dir, label_output_dir):\n",
    "    for image_path in image_paths:\n",
    "        file = os.path.basename(image_path)\n",
    "        # Extract class from the directory structure\n",
    "        class_name = os.path.basename(os.path.dirname(os.path.dirname(image_path)))\n",
    "        class_id = list(bounding_boxes.keys()).index(class_name)  # Get class id\n",
    "\n",
    "        # Bounding box details (replace with actual data for each image)\n",
    "        bboxes = bounding_boxes.get(class_name, [])\n",
    "\n",
    "        # Create corresponding .txt file\n",
    "        image_output_path = os.path.join(image_output_dir, file)\n",
    "        label_output_path = os.path.join(label_output_dir, file.replace('.jpg', '.txt'))\n",
    "\n",
    "        # Move the image to the new directory\n",
    "        shutil.copy(image_path, image_output_path)\n",
    "\n",
    "        # Write the label file\n",
    "        with open(label_output_path, 'w') as f:\n",
    "            for bbox in bboxes:\n",
    "                bbox_data = f\"{class_id} {bbox[1]} {bbox[2]} {bbox[3]} {bbox[4]}\\n\"\n",
    "                f.write(bbox_data)"
   ]
  },
  {
   "cell_type": "markdown",
   "metadata": {},
   "source": [
    "<h2 style=\"color:brown;\">Split the dataset into 80:20 ratio</h2>"
   ]
  },
  {
   "cell_type": "code",
   "execution_count": 7,
   "metadata": {},
   "outputs": [],
   "source": [
    "# Collect all image paths and sort into training and validation sets\n",
    "train_image_paths = []\n",
    "val_image_paths = []"
   ]
  },
  {
   "cell_type": "code",
   "execution_count": 8,
   "metadata": {},
   "outputs": [],
   "source": [
    "for word_dir in os.listdir(root_dir):\n",
    "    word_path = os.path.join(root_dir, word_dir)\n",
    "    if os.path.isdir(word_path):\n",
    "        for user_folder in os.listdir(word_path):\n",
    "            user_folder_path = os.path.join(word_path, user_folder)\n",
    "            if os.path.isdir(user_folder_path):\n",
    "                if user_folder.lower() == \"user_6\":\n",
    "                    val_image_paths.extend([os.path.join(user_folder_path, file) for file in os.listdir(user_folder_path) if file.endswith(\".jpg\")])\n",
    "                else:\n",
    "                    train_image_paths.extend([os.path.join(user_folder_path, file) for file in os.listdir(user_folder_path) if file.endswith(\".jpg\")])\n"
   ]
  },
  {
   "cell_type": "markdown",
   "metadata": {},
   "source": [
    "<h2 style=\"color:brown;\">Process and save the images and labels in structured YOLO format</h2>"
   ]
  },
  {
   "cell_type": "code",
   "execution_count": 9,
   "metadata": {},
   "outputs": [
    {
     "name": "stdout",
     "output_type": "stream",
     "text": [
      "Images and labels have been processed and moved successfully.\n"
     ]
    }
   ],
   "source": [
    "# Process the training and validation images\n",
    "process_files(train_image_paths, image_train_dir, label_train_dir)\n",
    "process_files(val_image_paths, image_val_dir, label_val_dir)\n",
    "\n",
    "print(\"Images and labels have been processed and moved successfully.\")"
   ]
  }
 ],
 "metadata": {
  "kernelspec": {
   "display_name": "isl-env",
   "language": "python",
   "name": "python3"
  },
  "language_info": {
   "codemirror_mode": {
    "name": "ipython",
    "version": 3
   },
   "file_extension": ".py",
   "mimetype": "text/x-python",
   "name": "python",
   "nbconvert_exporter": "python",
   "pygments_lexer": "ipython3",
   "version": "3.11.5"
  }
 },
 "nbformat": 4,
 "nbformat_minor": 2
}

{
 "cells": [
  {
   "cell_type": "markdown",
   "metadata": {},
   "source": [
    "<h2 style=\"color:brown;\">Install Dependencies</h2>"
   ]
  },
  {
   "cell_type": "code",
   "execution_count": 1,
   "metadata": {},
   "outputs": [
    {
     "name": "stdout",
     "output_type": "stream",
     "text": [
      "Requirement already satisfied: albumentations in d:\\thesis\\code\\isl-env\\lib\\site-packages (1.4.11)\n",
      "Requirement already satisfied: opencv-python in d:\\thesis\\code\\isl-env\\lib\\site-packages (4.9.0.80)\n",
      "Requirement already satisfied: numpy>=1.24.4 in d:\\thesis\\code\\isl-env\\lib\\site-packages (from albumentations) (1.26.4)\n",
      "Requirement already satisfied: scipy>=1.10.0 in d:\\thesis\\code\\isl-env\\lib\\site-packages (from albumentations) (1.13.0)\n",
      "Requirement already satisfied: scikit-image>=0.21.0 in d:\\thesis\\code\\isl-env\\lib\\site-packages (from albumentations) (0.24.0)\n",
      "Requirement already satisfied: PyYAML in d:\\thesis\\code\\isl-env\\lib\\site-packages (from albumentations) (6.0.1)\n",
      "Requirement already satisfied: typing-extensions>=4.9.0 in d:\\thesis\\code\\isl-env\\lib\\site-packages (from albumentations) (4.12.2)\n",
      "Requirement already satisfied: scikit-learn>=1.3.2 in d:\\thesis\\code\\isl-env\\lib\\site-packages (from albumentations) (1.5.0)\n",
      "Requirement already satisfied: pydantic>=2.7.0 in d:\\thesis\\code\\isl-env\\lib\\site-packages (from albumentations) (2.8.2)\n",
      "Requirement already satisfied: albucore>=0.0.11 in d:\\thesis\\code\\isl-env\\lib\\site-packages (from albumentations) (0.0.12)\n",
      "Requirement already satisfied: eval-type-backport in d:\\thesis\\code\\isl-env\\lib\\site-packages (from albumentations) (0.2.0)\n",
      "Requirement already satisfied: opencv-python-headless>=4.9.0.80 in d:\\thesis\\code\\isl-env\\lib\\site-packages (from albumentations) (4.10.0.84)\n",
      "Requirement already satisfied: tomli>=2.0.1 in d:\\thesis\\code\\isl-env\\lib\\site-packages (from albucore>=0.0.11->albumentations) (2.0.1)\n",
      "Requirement already satisfied: annotated-types>=0.4.0 in d:\\thesis\\code\\isl-env\\lib\\site-packages (from pydantic>=2.7.0->albumentations) (0.7.0)\n",
      "Requirement already satisfied: pydantic-core==2.20.1 in d:\\thesis\\code\\isl-env\\lib\\site-packages (from pydantic>=2.7.0->albumentations) (2.20.1)\n",
      "Requirement already satisfied: networkx>=2.8 in d:\\thesis\\code\\isl-env\\lib\\site-packages (from scikit-image>=0.21.0->albumentations) (3.3)\n",
      "Requirement already satisfied: pillow>=9.1 in d:\\thesis\\code\\isl-env\\lib\\site-packages (from scikit-image>=0.21.0->albumentations) (10.3.0)\n",
      "Requirement already satisfied: imageio>=2.33 in d:\\thesis\\code\\isl-env\\lib\\site-packages (from scikit-image>=0.21.0->albumentations) (2.34.2)\n",
      "Requirement already satisfied: tifffile>=2022.8.12 in d:\\thesis\\code\\isl-env\\lib\\site-packages (from scikit-image>=0.21.0->albumentations) (2024.7.21)\n",
      "Requirement already satisfied: packaging>=21 in d:\\thesis\\code\\isl-env\\lib\\site-packages (from scikit-image>=0.21.0->albumentations) (24.1)\n",
      "Requirement already satisfied: lazy-loader>=0.4 in d:\\thesis\\code\\isl-env\\lib\\site-packages (from scikit-image>=0.21.0->albumentations) (0.4)\n",
      "Requirement already satisfied: joblib>=1.2.0 in d:\\thesis\\code\\isl-env\\lib\\site-packages (from scikit-learn>=1.3.2->albumentations) (1.4.2)\n",
      "Requirement already satisfied: threadpoolctl>=3.1.0 in d:\\thesis\\code\\isl-env\\lib\\site-packages (from scikit-learn>=1.3.2->albumentations) (3.5.0)\n"
     ]
    },
    {
     "name": "stderr",
     "output_type": "stream",
     "text": [
      "\n",
      "[notice] A new release of pip is available: 23.2.1 -> 24.2\n",
      "[notice] To update, run: python.exe -m pip install --upgrade pip\n"
     ]
    }
   ],
   "source": [
    "!pip install albumentations opencv-python\n"
   ]
  },
  {
   "cell_type": "markdown",
   "metadata": {},
   "source": [
    "<h2 style=\"color:brown;\">Import dependencies</h2>"
   ]
  },
  {
   "cell_type": "code",
   "execution_count": 2,
   "metadata": {},
   "outputs": [
    {
     "name": "stderr",
     "output_type": "stream",
     "text": [
      "d:\\Thesis\\Code\\isl-env\\Lib\\site-packages\\tqdm\\auto.py:21: TqdmWarning: IProgress not found. Please update jupyter and ipywidgets. See https://ipywidgets.readthedocs.io/en/stable/user_install.html\n",
      "  from .autonotebook import tqdm as notebook_tqdm\n",
      "INFO:albumentations.check_version:A new version of Albumentations is available: 1.4.12 (you have 1.4.11). Upgrade using: pip install --upgrade albumentations\n"
     ]
    }
   ],
   "source": [
    "import os\n",
    "import cv2\n",
    "import albumentations as A\n",
    "from albumentations.pytorch import ToTensorV2\n",
    "from tqdm import tqdm"
   ]
  },
  {
   "cell_type": "markdown",
   "metadata": {},
   "source": [
    "<h2 style=\"color:brown;\">Augmentation Functions process</h2>"
   ]
  },
  {
   "cell_type": "code",
   "execution_count": 17,
   "metadata": {},
   "outputs": [],
   "source": [
    "# Define the augmentation \n",
    "def get_transform():\n",
    "    return A.Compose([\n",
    "        A.HorizontalFlip(p=0.5),\n",
    "        A.RandomBrightnessContrast(p=0.2),\n",
    "        A.RGBShift(r_shift_limit=20, g_shift_limit=20, b_shift_limit=20, p=0.5),\n",
    "        A.Blur(blur_limit=3, p=0.2),\n",
    "        A.GaussNoise(var_limit=(10.0, 50.0), p=0.2),\n",
    "        ToTensorV2()\n",
    "    ], bbox_params=A.BboxParams(format='yolo', label_fields=['class_labels']))"
   ]
  },
  {
   "cell_type": "code",
   "execution_count": 18,
   "metadata": {},
   "outputs": [],
   "source": [
    "def augment_image(image, bboxes, class_labels, num_augments=29):\n",
    "    augmented_images = []\n",
    "    augmented_bboxes = []\n",
    "    augmented_class_labels = []\n",
    "\n",
    "    transform = get_transform()\n",
    "\n",
    "    for _ in range(num_augments):\n",
    "        augmented = transform(image=image, bboxes=bboxes, class_labels=class_labels)\n",
    "        augmented_images.append(augmented['image'])\n",
    "        augmented_bboxes.append(augmented['bboxes'])\n",
    "        augmented_class_labels.append(augmented['class_labels'])\n",
    "\n",
    "    return augmented_images, augmented_bboxes, augmented_class_labels"
   ]
  },
  {
   "cell_type": "markdown",
   "metadata": {},
   "source": [
    "<h2 style=\"color:brown;\">Define path to save images</h2>"
   ]
  },
  {
   "cell_type": "code",
   "execution_count": 19,
   "metadata": {},
   "outputs": [],
   "source": [
    "# Paths\n",
    "input_folder = 'D:/Thesis/Code/Final-data/images/train'\n",
    "output_images_folder = 'D:/Thesis/Code/pre-processing/final-img/train1'\n",
    "output_labels_folder = 'D:/Thesis/Code/pre-processing/final-img/train2'\n",
    "annotation_folder = 'D:/Thesis/Code/Final-data/labels/train'  # Assuming YOLO format annotations"
   ]
  },
  {
   "cell_type": "code",
   "execution_count": 20,
   "metadata": {},
   "outputs": [],
   "source": [
    "if not os.path.exists(output_images_folder):\n",
    "    os.makedirs(output_images_folder)\n",
    "\n",
    "if not os.path.exists(output_labels_folder):\n",
    "    os.makedirs(output_labels_folder)"
   ]
  },
  {
   "cell_type": "markdown",
   "metadata": {},
   "source": [
    "<h2 style=\"color:brown;\">Processing Augmentation</h2>"
   ]
  },
  {
   "cell_type": "code",
   "execution_count": 21,
   "metadata": {},
   "outputs": [
    {
     "name": "stderr",
     "output_type": "stream",
     "text": [
      "100%|██████████| 481/481 [29:59<00:00,  3.74s/it]"
     ]
    },
    {
     "name": "stdout",
     "output_type": "stream",
     "text": [
      "Augmentation complete.\n"
     ]
    },
    {
     "name": "stderr",
     "output_type": "stream",
     "text": [
      "\n"
     ]
    }
   ],
   "source": [
    "# Process each image in the input folder\n",
    "for filename in tqdm(os.listdir(input_folder)):\n",
    "    if filename.endswith('.jpg') or filename.endswith('.png'):\n",
    "        image_path = os.path.join(input_folder, filename)\n",
    "        image = cv2.imread(image_path)\n",
    "        image_height, image_width = image.shape[:2]\n",
    "\n",
    "        # Load corresponding annotation\n",
    "        annotation_path = os.path.join(annotation_folder, os.path.splitext(filename)[0] + '.txt')\n",
    "        bboxes = []\n",
    "        class_labels = []\n",
    "\n",
    "        if os.path.exists(annotation_path):\n",
    "            with open(annotation_path, 'r') as file:\n",
    "                for line in file.readlines():\n",
    "                    class_id, x_center, y_center, width, height = map(float, line.strip().split())\n",
    "                    bboxes.append([x_center, y_center, width, height])\n",
    "                    class_labels.append(class_id)\n",
    "\n",
    "        # Save the original image\n",
    "        original_image_path = os.path.join(output_images_folder, filename)\n",
    "        cv2.imwrite(original_image_path, image)\n",
    "\n",
    "        # Save the original annotation\n",
    "        original_annotation_path = os.path.join(output_labels_folder, os.path.splitext(filename)[0] + '.txt')\n",
    "        with open(original_annotation_path, 'w') as file:\n",
    "            for bbox, class_id in zip(bboxes, class_labels):\n",
    "                file.write(f\"{class_id} {bbox[0]} {bbox[1]} {bbox[2]} {bbox[3]}\\n\")\n",
    "\n",
    "        # Generate and save augmented images (29 augmentations per image)\n",
    "        augmented_images, augmented_bboxes, augmented_class_labels = augment_image(image, bboxes, class_labels, num_augments=29)\n",
    "        \n",
    "        for i, (aug_img, aug_bboxes, aug_labels) in enumerate(zip(augmented_images, augmented_bboxes, augmented_class_labels)):\n",
    "            augmented_image_filename = f\"{os.path.splitext(filename)[0]}_aug_{i}.jpg\"\n",
    "            augmented_image_path = os.path.join(output_images_folder, augmented_image_filename)\n",
    "            augmented_annotation_filename = f\"{os.path.splitext(filename)[0]}_aug_{i}.txt\"\n",
    "            augmented_annotation_path = os.path.join(output_labels_folder, augmented_annotation_filename)\n",
    "\n",
    "            # Save augmented image\n",
    "            aug_img_np = aug_img.permute(1, 2, 0).numpy()[:, :, ::-1]  # Convert CHW to HWC and RGB to BGR\n",
    "            cv2.imwrite(augmented_image_path, aug_img_np)\n",
    "\n",
    "            # Save augmented annotation\n",
    "            with open(augmented_annotation_path, 'w') as file:\n",
    "                for bbox, class_id in zip(aug_bboxes, aug_labels):\n",
    "                    file.write(f\"{class_id} {bbox[0]} {bbox[1]} {bbox[2]} {bbox[3]}\\n\")\n",
    "\n",
    "print('Augmentation complete.')"
   ]
  },
  {
   "cell_type": "markdown",
   "metadata": {},
   "source": [
    "<h2 style=\"color:brown;\">Repeat the process of Augmentation for Validation</h2>"
   ]
  },
  {
   "cell_type": "code",
   "execution_count": 22,
   "metadata": {},
   "outputs": [],
   "source": [
    "# Paths\n",
    "input_folder = 'D:/Thesis/Code/Final-data/images/val'\n",
    "output_images_folder = 'D:/Thesis/Code/pre-processing/final-img/val1'\n",
    "output_labels_folder = 'D:/Thesis/Code/pre-processing/final-img/val2'\n",
    "annotation_folder = 'D:/Thesis/Code/Final-data/labels/val'  # Assuming YOLO format annotations"
   ]
  },
  {
   "cell_type": "code",
   "execution_count": 23,
   "metadata": {},
   "outputs": [],
   "source": [
    "if not os.path.exists(output_images_folder):\n",
    "    os.makedirs(output_images_folder)\n",
    "\n",
    "if not os.path.exists(output_labels_folder):\n",
    "    os.makedirs(output_labels_folder)"
   ]
  },
  {
   "cell_type": "code",
   "execution_count": 24,
   "metadata": {},
   "outputs": [
    {
     "name": "stderr",
     "output_type": "stream",
     "text": [
      "100%|██████████| 90/90 [07:58<00:00,  5.31s/it]"
     ]
    },
    {
     "name": "stdout",
     "output_type": "stream",
     "text": [
      "Augmentation complete.\n"
     ]
    },
    {
     "name": "stderr",
     "output_type": "stream",
     "text": [
      "\n"
     ]
    }
   ],
   "source": [
    "# Process each image in the input folder\n",
    "for filename in tqdm(os.listdir(input_folder)):\n",
    "    if filename.endswith('.jpg') or filename.endswith('.png'):\n",
    "        image_path = os.path.join(input_folder, filename)\n",
    "        image = cv2.imread(image_path)\n",
    "        image_height, image_width = image.shape[:2]\n",
    "\n",
    "        # Load corresponding annotation\n",
    "        annotation_path = os.path.join(annotation_folder, os.path.splitext(filename)[0] + '.txt')\n",
    "        bboxes = []\n",
    "        class_labels = []\n",
    "\n",
    "        if os.path.exists(annotation_path):\n",
    "            with open(annotation_path, 'r') as file:\n",
    "                for line in file.readlines():\n",
    "                    class_id, x_center, y_center, width, height = map(float, line.strip().split())\n",
    "                    bboxes.append([x_center, y_center, width, height])\n",
    "                    class_labels.append(class_id)\n",
    "\n",
    "        # Save the original image\n",
    "        original_image_path = os.path.join(output_images_folder, filename)\n",
    "        cv2.imwrite(original_image_path, image)\n",
    "\n",
    "        # Save the original annotation\n",
    "        original_annotation_path = os.path.join(output_labels_folder, os.path.splitext(filename)[0] + '.txt')\n",
    "        with open(original_annotation_path, 'w') as file:\n",
    "            for bbox, class_id in zip(bboxes, class_labels):\n",
    "                file.write(f\"{class_id} {bbox[0]} {bbox[1]} {bbox[2]} {bbox[3]}\\n\")\n",
    "\n",
    "        # Generate and save augmented images (29 augmentations per image)\n",
    "        augmented_images, augmented_bboxes, augmented_class_labels = augment_image(image, bboxes, class_labels, num_augments=29)\n",
    "        \n",
    "        for i, (aug_img, aug_bboxes, aug_labels) in enumerate(zip(augmented_images, augmented_bboxes, augmented_class_labels)):\n",
    "            augmented_image_filename = f\"{os.path.splitext(filename)[0]}_aug_{i}.jpg\"\n",
    "            augmented_image_path = os.path.join(output_images_folder, augmented_image_filename)\n",
    "            augmented_annotation_filename = f\"{os.path.splitext(filename)[0]}_aug_{i}.txt\"\n",
    "            augmented_annotation_path = os.path.join(output_labels_folder, augmented_annotation_filename)\n",
    "\n",
    "            # Save augmented image\n",
    "            aug_img_np = aug_img.permute(1, 2, 0).numpy()[:, :, ::-1]  # Convert CHW to HWC and RGB to BGR\n",
    "            cv2.imwrite(augmented_image_path, aug_img_np)\n",
    "\n",
    "            # Save augmented annotation\n",
    "            with open(augmented_annotation_path, 'w') as file:\n",
    "                for bbox, class_id in zip(aug_bboxes, aug_labels):\n",
    "                    file.write(f\"{class_id} {bbox[0]} {bbox[1]} {bbox[2]} {bbox[3]}\\n\")\n",
    "\n",
    "print('Augmentation complete.')"
   ]
  }
 ],
 "metadata": {
  "kernelspec": {
   "display_name": "isl-env",
   "language": "python",
   "name": "python3"
  },
  "language_info": {
   "codemirror_mode": {
    "name": "ipython",
    "version": 3
   },
   "file_extension": ".py",
   "mimetype": "text/x-python",
   "name": "python",
   "nbconvert_exporter": "python",
   "pygments_lexer": "ipython3",
   "version": "3.11.5"
  }
 },
 "nbformat": 4,
 "nbformat_minor": 2
}
